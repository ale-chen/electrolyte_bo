{
 "cells": [
  {
   "cell_type": "code",
   "execution_count": 1,
   "metadata": {},
   "outputs": [
    {
     "name": "stderr",
     "output_type": "stream",
     "text": [
      "/home/ubuntu/.local/lib/python3.10/site-packages/dragonfly/utils/oper_utils.py:30: UserWarning: cannot import name 'direct' from 'dragonfly.utils.direct_fortran' (/home/ubuntu/.local/lib/python3.10/site-packages/dragonfly/utils/direct_fortran/__init__.py)\n",
      "Could not import Fortran direct library. Dragonfly can still be used, but might be slightly slower. To get rid of this warning, install a numpy compatible Fortran compiler (e.g. gfortran) and the python-dev package and reinstall Dragonfly.\n",
      "  warn('%s\\n%s'%(e, fortran_err_msg))\n"
     ]
    }
   ],
   "source": [
    "from db_utils import *\n",
    "from config import generate_config_json\n",
    "\n",
    "import dragonfly #DO NOT REINSTALL--THE SITE-PACKAGES VERSION OF DRAGONFLY IS FIXED/MODIFIED\n",
    "from dragonfly import load_config_file\n",
    "from dragonfly.exd.experiment_caller import CPFunctionCaller\n",
    "from dragonfly.opt import gp_bandit"
   ]
  },
  {
   "cell_type": "code",
   "execution_count": 3,
   "metadata": {},
   "outputs": [],
   "source": [
    "#LOWER BOUND CANNOT BE MORE THAN 0\n",
    "ALL_CONSIDERED_COMPONENTS = [\n",
    "    ('Ca(ClO4)2', (0,7.5)),\n",
    "    ('LiPF6', (0,7.5)),\n",
    "    ('CaCl2', (0,7.5)),\n",
    "    ('H6C4O3',(0,7.5))\n",
    "]\n",
    "EXP_COMPONENTS = [\n",
    "    'CaCl2',\n",
    "    'H6C4O3',\n",
    "    'LiPF6'\n",
    "]\n",
    "# in mL\n",
    "MAX_VOL = 100.0\n",
    "MIN_VOL = 2.0\n",
    "\n",
    "EXPERIMENTER_INITIALS = 'AC'\n",
    "CONFIG_OUTPUT_FILE = './config'\n",
    "#OR\n",
    "CONFIG_INPUT_FILE = ''"
   ]
  },
  {
   "cell_type": "code",
   "execution_count": 4,
   "metadata": {},
   "outputs": [
    {
     "name": "stdout",
     "output_type": "stream",
     "text": [
      "./config/exp_2023-08-14T22-44-25.json: New config file generated\n"
     ]
    }
   ],
   "source": [
    "\n",
    "all_considered_components_formatted = []\n",
    "for chem, bounds in ALL_CONSIDERED_COMPONENTS:\n",
    "    all_considered_components_formatted.append((get_component_type(chem),bounds))\n",
    "\n",
    "exp_components_formatted = [get_component_type(chem) for chem in EXP_COMPONENTS]\n",
    "exp_config_path, constraint_path = generate_config_json(\n",
    "    all_considered_components_formatted,\n",
    "    exp_components_formatted,\n",
    "    MAX_VOL,\n",
    "    MIN_VOL,\n",
    "    EXPERIMENTER_INITIALS,\n",
    "    CONFIG_OUTPUT_FILE\n",
    "                                       )\n",
    "print(exp_config_path + ': New config file generated')"
   ]
  },
  {
   "cell_type": "code",
   "execution_count": 5,
   "metadata": {},
   "outputs": [
    {
     "name": "stderr",
     "output_type": "stream",
     "text": [
      "/home/ubuntu/.local/lib/python3.10/site-packages/dragonfly/exd/exd_core.py:338: UserWarning: Sampling an initial pool failed despite 10 attempts -- will continue trying but consider reparametrising your domain if this problem persists.\n",
      "  warn(('Sampling an initial pool failed despite %d attempts -- will ' +\n",
      "/home/ubuntu/.local/lib/python3.10/site-packages/dragonfly/exd/exd_core.py:338: UserWarning: Sampling an initial pool failed despite 20 attempts -- will continue trying but consider reparametrising your domain if this problem persists.\n",
      "  warn(('Sampling an initial pool failed despite %d attempts -- will ' +\n",
      "/home/ubuntu/.local/lib/python3.10/site-packages/dragonfly/exd/exd_core.py:338: UserWarning: Sampling an initial pool failed despite 30 attempts -- will continue trying but consider reparametrising your domain if this problem persists.\n",
      "  warn(('Sampling an initial pool failed despite %d attempts -- will ' +\n",
      "/home/ubuntu/.local/lib/python3.10/site-packages/dragonfly/exd/exd_core.py:338: UserWarning: Sampling an initial pool failed despite 40 attempts -- will continue trying but consider reparametrising your domain if this problem persists.\n",
      "  warn(('Sampling an initial pool failed despite %d attempts -- will ' +\n",
      "/home/ubuntu/.local/lib/python3.10/site-packages/dragonfly/exd/exd_core.py:338: UserWarning: Sampling an initial pool failed despite 50 attempts -- will continue trying but consider reparametrising your domain if this problem persists.\n",
      "  warn(('Sampling an initial pool failed despite %d attempts -- will ' +\n",
      "/home/ubuntu/.local/lib/python3.10/site-packages/dragonfly/exd/exd_core.py:338: UserWarning: Sampling an initial pool failed despite 60 attempts -- will continue trying but consider reparametrising your domain if this problem persists.\n",
      "  warn(('Sampling an initial pool failed despite %d attempts -- will ' +\n",
      "/home/ubuntu/.local/lib/python3.10/site-packages/dragonfly/exd/exd_core.py:338: UserWarning: Sampling an initial pool failed despite 70 attempts -- will continue trying but consider reparametrising your domain if this problem persists.\n",
      "  warn(('Sampling an initial pool failed despite %d attempts -- will ' +\n",
      "/home/ubuntu/.local/lib/python3.10/site-packages/dragonfly/exd/exd_core.py:338: UserWarning: Sampling an initial pool failed despite 80 attempts -- will continue trying but consider reparametrising your domain if this problem persists.\n",
      "  warn(('Sampling an initial pool failed despite %d attempts -- will ' +\n",
      "/home/ubuntu/.local/lib/python3.10/site-packages/dragonfly/exd/exd_core.py:338: UserWarning: Sampling an initial pool failed despite 90 attempts -- will continue trying but consider reparametrising your domain if this problem persists.\n",
      "  warn(('Sampling an initial pool failed despite %d attempts -- will ' +\n",
      "/home/ubuntu/.local/lib/python3.10/site-packages/dragonfly/exd/exd_core.py:338: UserWarning: Sampling an initial pool failed despite 100 attempts -- will continue trying but consider reparametrising your domain if this problem persists.\n",
      "  warn(('Sampling an initial pool failed despite %d attempts -- will ' +\n",
      "/home/ubuntu/.local/lib/python3.10/site-packages/dragonfly/exd/exd_core.py:338: UserWarning: Sampling an initial pool failed despite 110 attempts -- will continue trying but consider reparametrising your domain if this problem persists.\n",
      "  warn(('Sampling an initial pool failed despite %d attempts -- will ' +\n",
      "/home/ubuntu/.local/lib/python3.10/site-packages/dragonfly/exd/exd_core.py:338: UserWarning: Sampling an initial pool failed despite 120 attempts -- will continue trying but consider reparametrising your domain if this problem persists.\n",
      "  warn(('Sampling an initial pool failed despite %d attempts -- will ' +\n",
      "/home/ubuntu/.local/lib/python3.10/site-packages/dragonfly/exd/exd_core.py:338: UserWarning: Sampling an initial pool failed despite 130 attempts -- will continue trying but consider reparametrising your domain if this problem persists.\n",
      "  warn(('Sampling an initial pool failed despite %d attempts -- will ' +\n",
      "/home/ubuntu/.local/lib/python3.10/site-packages/dragonfly/exd/exd_core.py:338: UserWarning: Sampling an initial pool failed despite 140 attempts -- will continue trying but consider reparametrising your domain if this problem persists.\n",
      "  warn(('Sampling an initial pool failed despite %d attempts -- will ' +\n",
      "/home/ubuntu/.local/lib/python3.10/site-packages/dragonfly/exd/exd_core.py:338: UserWarning: Sampling an initial pool failed despite 150 attempts -- will continue trying but consider reparametrising your domain if this problem persists.\n",
      "  warn(('Sampling an initial pool failed despite %d attempts -- will ' +\n",
      "/home/ubuntu/.local/lib/python3.10/site-packages/dragonfly/exd/exd_core.py:338: UserWarning: Sampling an initial pool failed despite 160 attempts -- will continue trying but consider reparametrising your domain if this problem persists.\n",
      "  warn(('Sampling an initial pool failed despite %d attempts -- will ' +\n",
      "/home/ubuntu/.local/lib/python3.10/site-packages/dragonfly/exd/exd_core.py:338: UserWarning: Sampling an initial pool failed despite 170 attempts -- will continue trying but consider reparametrising your domain if this problem persists.\n",
      "  warn(('Sampling an initial pool failed despite %d attempts -- will ' +\n",
      "/home/ubuntu/.local/lib/python3.10/site-packages/dragonfly/exd/exd_core.py:338: UserWarning: Sampling an initial pool failed despite 180 attempts -- will continue trying but consider reparametrising your domain if this problem persists.\n",
      "  warn(('Sampling an initial pool failed despite %d attempts -- will ' +\n",
      "/home/ubuntu/.local/lib/python3.10/site-packages/dragonfly/exd/exd_core.py:338: UserWarning: Sampling an initial pool failed despite 190 attempts -- will continue trying but consider reparametrising your domain if this problem persists.\n",
      "  warn(('Sampling an initial pool failed despite %d attempts -- will ' +\n",
      "/home/ubuntu/.local/lib/python3.10/site-packages/dragonfly/exd/exd_core.py:338: UserWarning: Sampling an initial pool failed despite 200 attempts -- will continue trying but consider reparametrising your domain if this problem persists.\n",
      "  warn(('Sampling an initial pool failed despite %d attempts -- will ' +\n",
      "/home/ubuntu/.local/lib/python3.10/site-packages/dragonfly/exd/exd_core.py:338: UserWarning: Sampling an initial pool failed despite 210 attempts -- will continue trying but consider reparametrising your domain if this problem persists.\n",
      "  warn(('Sampling an initial pool failed despite %d attempts -- will ' +\n",
      "/home/ubuntu/.local/lib/python3.10/site-packages/dragonfly/exd/exd_core.py:338: UserWarning: Sampling an initial pool failed despite 220 attempts -- will continue trying but consider reparametrising your domain if this problem persists.\n",
      "  warn(('Sampling an initial pool failed despite %d attempts -- will ' +\n",
      "/home/ubuntu/.local/lib/python3.10/site-packages/dragonfly/exd/exd_core.py:338: UserWarning: Sampling an initial pool failed despite 230 attempts -- will continue trying but consider reparametrising your domain if this problem persists.\n",
      "  warn(('Sampling an initial pool failed despite %d attempts -- will ' +\n"
     ]
    }
   ],
   "source": [
    "config = load_config_file(exp_config_path)\n",
    "#optimization method is bayesian optimization\n",
    "domain, domain_orderings = config.domain, config.domain_orderings\n",
    "func_caller = CPFunctionCaller(None, domain, domain_orderings=domain_orderings)\n",
    "opt = gp_bandit.CPGPBandit(func_caller, ask_tell_mode=True)\n",
    "opt.initialise()"
   ]
  },
  {
   "cell_type": "code",
   "execution_count": 24,
   "metadata": {},
   "outputs": [],
   "source": [
    "experiment_electrolytes = get_experiment_electrolytes([tupl[0] for tupl in ALL_CONSIDERED_COMPONENTS])\n",
    "opt.tell([(point['amounts'], point['electrolyte'][1]) for point in experiment_electrolytes])\n",
    "#TELL ALL EXISTING DATABASE POINTS"
   ]
  },
  {
   "cell_type": "code",
   "execution_count": 27,
   "metadata": {},
   "outputs": [
    {
     "data": {
      "text/plain": [
       "[0.0, 2.477, 4.73, 2.012]"
      ]
     },
     "execution_count": 27,
     "metadata": {},
     "output_type": "execute_result"
    }
   ],
   "source": [
    "opt.ask()"
   ]
  }
 ],
 "metadata": {
  "kernelspec": {
   "display_name": "Python 3",
   "language": "python",
   "name": "python3"
  },
  "language_info": {
   "codemirror_mode": {
    "name": "ipython",
    "version": 3
   },
   "file_extension": ".py",
   "mimetype": "text/x-python",
   "name": "python",
   "nbconvert_exporter": "python",
   "pygments_lexer": "ipython3",
   "version": "3.10.12"
  },
  "orig_nbformat": 4
 },
 "nbformat": 4,
 "nbformat_minor": 2
}
