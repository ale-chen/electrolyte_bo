{
 "cells": [
  {
   "cell_type": "code",
   "execution_count": 1,
   "metadata": {},
   "outputs": [
    {
     "name": "stderr",
     "output_type": "stream",
     "text": [
      "/home/ubuntu/.local/lib/python3.10/site-packages/dragonfly/utils/oper_utils.py:30: UserWarning: cannot import name 'direct' from 'dragonfly.utils.direct_fortran' (/home/ubuntu/.local/lib/python3.10/site-packages/dragonfly/utils/direct_fortran/__init__.py)\n",
      "Could not import Fortran direct library. Dragonfly can still be used, but might be slightly slower. To get rid of this warning, install a numpy compatible Fortran compiler (e.g. gfortran) and the python-dev package and reinstall Dragonfly.\n",
      "  warn('%s\\n%s'%(e, fortran_err_msg))\n"
     ]
    }
   ],
   "source": [
    "#USE PYTHON 3.10\n",
    "\n",
    "from db_utils import *\n",
    "from config import generate_config_json\n",
    "from ask_tell_utils import descriptive_ask, csv_tell\n",
    "\n",
    "import dragonfly #DO NOT REINSTALL--THE SITE-PACKAGES VERSION OF DRAGONFLY IS FIXED/MODIFIED\n",
    "from dragonfly import load_config_file\n",
    "from dragonfly.exd.experiment_caller import CPFunctionCaller\n",
    "from dragonfly.opt import gp_bandit"
   ]
  },
  {
   "cell_type": "markdown",
   "metadata": {},
   "source": [
    "## **INPUT PARAMETERS**\n",
    "\n",
    "*Example Usage:*\n",
    "> ALL_CONSIDERED_COMPONENTS = [\n",
    "> \n",
    ">     ('Ca(ClO4)2', (0,7.5)),\n",
    "> \n",
    ">     ('LiPF6', (0,7.5)),\n",
    "> \n",
    ">     ('CaCl2', (0,7.5)),\n",
    "> \n",
    ">     ('H6C4O3',(0,7.5))\n",
    "> \n",
    "> ]\n",
    "> \n",
    "> EXP_COMPONENTS = [\n",
    "> \n",
    ">     'CaCl2',\n",
    "> \n",
    ">     'H6C4O3',\n",
    "> \n",
    ">     'LiPF6'\n",
    "> \n",
    "> ]\n",
    "> \n",
    "> MAX_VOL = 100.0\n",
    "> \n",
    "> MIN_VOL = 2.0\n",
    ">\n",
    "> CELL_CONSTANT = 10\n",
    "> \n",
    "> EXPERIMENTER_INITIALS = 'AC'\n",
    "> \n",
    "> CONFIG_OUTPUT_FILE = './config'\n",
    ">\n",
    "> CSV_FILEPATH = '/home/ubuntu/eis_db/acquire/data/eis_circle_fit_test_data.csv'"
   ]
  },
  {
   "cell_type": "code",
   "execution_count": 3,
   "metadata": {},
   "outputs": [],
   "source": [
    "ALL_CONSIDERED_COMPONENTS = [\n",
    "    ('Ca(ClO4)2', (0,7.5)), #Perchlorate\n",
    "    ('H8C4O2S', (0,5.0)), #Sulfolane\n",
    "    ('H7C3NO',(0,5.0)) #DMF\n",
    "]\n",
    "EXP_COMPONENTS = [\n",
    "    'Ca(ClO4)2',\n",
    "    'H8C4O2S',\n",
    "    'H7C3NO'\n",
    "]\n",
    "# in mL\n",
    "MAX_VOL = 6.0\n",
    "MIN_VOL = 5.0\n",
    "CELL_CONSTANT = 10\n",
    "\n",
    "EXPERIMENTER_INITIALS = 'AC'\n",
    "CONFIG_OUTPUT_FILE = './config'\n",
    "CSV_FILEPATH = '/home/ubuntu/eis_db/acquire/data/eis_circle_fit_test_data.csv'"
   ]
  },
  {
   "cell_type": "markdown",
   "metadata": {},
   "source": [
    "## **EXPERIMENT SETUP**\n",
    "\n",
    "**Click play below to generate new config file**"
   ]
  },
  {
   "cell_type": "code",
   "execution_count": 4,
   "metadata": {},
   "outputs": [
    {
     "name": "stdout",
     "output_type": "stream",
     "text": [
      "No components found for formula H3C7NO\n",
      "No components found for formula H3C7NO\n"
     ]
    },
    {
     "ename": "AttributeError",
     "evalue": "'NoneType' object has no attribute 'is_salt'",
     "output_type": "error",
     "traceback": [
      "\u001b[0;31m---------------------------------------------------------------------------\u001b[0m",
      "\u001b[0;31mAttributeError\u001b[0m                            Traceback (most recent call last)",
      "Cell \u001b[0;32mIn[4], line 6\u001b[0m\n\u001b[1;32m      3\u001b[0m     all_considered_components_formatted\u001b[39m.\u001b[39mappend((get_component_type(chem),bounds))\n\u001b[1;32m      5\u001b[0m exp_components_formatted \u001b[39m=\u001b[39m [get_component_type(chem) \u001b[39mfor\u001b[39;00m chem \u001b[39min\u001b[39;00m EXP_COMPONENTS]\n\u001b[0;32m----> 6\u001b[0m exp_config_path, constraint_path \u001b[39m=\u001b[39m generate_config_json(\n\u001b[1;32m      7\u001b[0m     all_considered_components_formatted,\n\u001b[1;32m      8\u001b[0m     exp_components_formatted,\n\u001b[1;32m      9\u001b[0m     MAX_VOL,\n\u001b[1;32m     10\u001b[0m     MIN_VOL,\n\u001b[1;32m     11\u001b[0m     EXPERIMENTER_INITIALS,\n\u001b[1;32m     12\u001b[0m     CONFIG_OUTPUT_FILE\n\u001b[1;32m     13\u001b[0m                                        )\n\u001b[1;32m     14\u001b[0m \u001b[39mprint\u001b[39m(exp_config_path \u001b[39m+\u001b[39m \u001b[39m'\u001b[39m\u001b[39m: New config file generated\u001b[39m\u001b[39m'\u001b[39m)\n",
      "File \u001b[0;32m~/eis_db/acquire/config.py:28\u001b[0m, in \u001b[0;36mgenerate_config_json\u001b[0;34m(all_chemicals, used_chemicals, max_vol, min_vol, initials, output_filepath)\u001b[0m\n\u001b[1;32m     25\u001b[0m domain \u001b[39m=\u001b[39m {}\n\u001b[1;32m     27\u001b[0m \u001b[39mfor\u001b[39;00m chemical, bounds \u001b[39min\u001b[39;00m all_chemicals:\n\u001b[0;32m---> 28\u001b[0m     key \u001b[39m=\u001b[39m \u001b[39mf\u001b[39m\u001b[39m\"\u001b[39m\u001b[39m{\u001b[39;00m\u001b[39mstr\u001b[39m(chemical)\u001b[39m}\u001b[39;00m\u001b[39m_grams\u001b[39m\u001b[39m\"\u001b[39m \u001b[39mif\u001b[39;00m chemical\u001b[39m.\u001b[39;49mis_salt \u001b[39melse\u001b[39;00m \u001b[39mf\u001b[39m\u001b[39m\"\u001b[39m\u001b[39m{\u001b[39;00m\u001b[39mstr\u001b[39m(chemical)\u001b[39m}\u001b[39;00m\u001b[39m_mLs\u001b[39m\u001b[39m\"\u001b[39m\n\u001b[1;32m     29\u001b[0m     domain[key] \u001b[39m=\u001b[39m {\n\u001b[1;32m     30\u001b[0m         \u001b[39m\"\u001b[39m\u001b[39mname\u001b[39m\u001b[39m\"\u001b[39m: key,\n\u001b[1;32m     31\u001b[0m         \u001b[39m\"\u001b[39m\u001b[39mtype\u001b[39m\u001b[39m\"\u001b[39m: \u001b[39m\"\u001b[39m\u001b[39mdiscrete_numeric\u001b[39m\u001b[39m\"\u001b[39m,\n\u001b[1;32m     32\u001b[0m         \u001b[39m\"\u001b[39m\u001b[39mitems\u001b[39m\u001b[39m\"\u001b[39m: \u001b[39mf\u001b[39m\u001b[39m\"\u001b[39m\u001b[39m{\u001b[39;00mbounds[\u001b[39m0\u001b[39m]\u001b[39m}\u001b[39;00m\u001b[39m:\u001b[39m\u001b[39m{\u001b[39;00m\u001b[39mstr\u001b[39m(DISCRETE_RESOLUTION)\u001b[39m}\u001b[39;00m\u001b[39m:\u001b[39m\u001b[39m{\u001b[39;00mbounds[\u001b[39m1\u001b[39m]\u001b[39m}\u001b[39;00m\u001b[39m\"\u001b[39m\n\u001b[1;32m     33\u001b[0m     }\n\u001b[1;32m     35\u001b[0m now \u001b[39m=\u001b[39m dt\u001b[39m.\u001b[39misoformat(dt\u001b[39m.\u001b[39mnow())\u001b[39m.\u001b[39mreplace(\u001b[39m'\u001b[39m\u001b[39m:\u001b[39m\u001b[39m'\u001b[39m,\u001b[39m'\u001b[39m\u001b[39m-\u001b[39m\u001b[39m'\u001b[39m)\n",
      "\u001b[0;31mAttributeError\u001b[0m: 'NoneType' object has no attribute 'is_salt'"
     ]
    }
   ],
   "source": [
    "\n",
    "#GENERATE CONFIG FILES\n",
    "all_considered_components_formatted = []\n",
    "for chem, bounds in ALL_CONSIDERED_COMPONENTS:\n",
    "    all_considered_components_formatted.append((get_component_type(chem),bounds))\n",
    "\n",
    "exp_components_formatted = [get_component_type(chem) for chem in EXP_COMPONENTS]\n",
    "exp_config_path, constraint_path = generate_config_json(\n",
    "    all_considered_components_formatted,\n",
    "    exp_components_formatted,\n",
    "    MAX_VOL,\n",
    "    MIN_VOL,\n",
    "    EXPERIMENTER_INITIALS,\n",
    "    CONFIG_OUTPUT_FILE\n",
    "                                       )\n",
    "print(exp_config_path + ': New config file generated')"
   ]
  },
  {
   "cell_type": "markdown",
   "metadata": {},
   "source": [
    "**Click play below to create optimizer and read in space config file.**\n",
    "\n",
    "To read old config file, replace *exp_config_path* in:\n",
    "> config = load_config_file(exp_config_path)\n",
    "\n",
    "*This will take a minute or so*"
   ]
  },
  {
   "cell_type": "code",
   "execution_count": 4,
   "metadata": {},
   "outputs": [
    {
     "name": "stderr",
     "output_type": "stream",
     "text": [
      "/home/ubuntu/.local/lib/python3.10/site-packages/dragonfly/exd/exd_core.py:338: UserWarning: Sampling an initial pool failed despite 10 attempts -- will continue trying but consider reparametrising your domain if this problem persists.\n",
      "  warn(('Sampling an initial pool failed despite %d attempts -- will ' +\n",
      "/home/ubuntu/.local/lib/python3.10/site-packages/dragonfly/exd/exd_core.py:338: UserWarning: Sampling an initial pool failed despite 20 attempts -- will continue trying but consider reparametrising your domain if this problem persists.\n",
      "  warn(('Sampling an initial pool failed despite %d attempts -- will ' +\n",
      "/home/ubuntu/.local/lib/python3.10/site-packages/dragonfly/exd/exd_core.py:338: UserWarning: Sampling an initial pool failed despite 30 attempts -- will continue trying but consider reparametrising your domain if this problem persists.\n",
      "  warn(('Sampling an initial pool failed despite %d attempts -- will ' +\n",
      "/home/ubuntu/.local/lib/python3.10/site-packages/dragonfly/exd/exd_core.py:338: UserWarning: Sampling an initial pool failed despite 40 attempts -- will continue trying but consider reparametrising your domain if this problem persists.\n",
      "  warn(('Sampling an initial pool failed despite %d attempts -- will ' +\n",
      "/home/ubuntu/.local/lib/python3.10/site-packages/dragonfly/exd/exd_core.py:338: UserWarning: Sampling an initial pool failed despite 50 attempts -- will continue trying but consider reparametrising your domain if this problem persists.\n",
      "  warn(('Sampling an initial pool failed despite %d attempts -- will ' +\n",
      "/home/ubuntu/.local/lib/python3.10/site-packages/dragonfly/exd/exd_core.py:338: UserWarning: Sampling an initial pool failed despite 60 attempts -- will continue trying but consider reparametrising your domain if this problem persists.\n",
      "  warn(('Sampling an initial pool failed despite %d attempts -- will ' +\n",
      "/home/ubuntu/.local/lib/python3.10/site-packages/dragonfly/exd/exd_core.py:338: UserWarning: Sampling an initial pool failed despite 70 attempts -- will continue trying but consider reparametrising your domain if this problem persists.\n",
      "  warn(('Sampling an initial pool failed despite %d attempts -- will ' +\n",
      "/home/ubuntu/.local/lib/python3.10/site-packages/dragonfly/exd/exd_core.py:338: UserWarning: Sampling an initial pool failed despite 80 attempts -- will continue trying but consider reparametrising your domain if this problem persists.\n",
      "  warn(('Sampling an initial pool failed despite %d attempts -- will ' +\n",
      "/home/ubuntu/.local/lib/python3.10/site-packages/dragonfly/exd/exd_core.py:338: UserWarning: Sampling an initial pool failed despite 90 attempts -- will continue trying but consider reparametrising your domain if this problem persists.\n",
      "  warn(('Sampling an initial pool failed despite %d attempts -- will ' +\n",
      "/home/ubuntu/.local/lib/python3.10/site-packages/dragonfly/exd/exd_core.py:338: UserWarning: Sampling an initial pool failed despite 100 attempts -- will continue trying but consider reparametrising your domain if this problem persists.\n",
      "  warn(('Sampling an initial pool failed despite %d attempts -- will ' +\n",
      "/home/ubuntu/.local/lib/python3.10/site-packages/dragonfly/exd/exd_core.py:338: UserWarning: Sampling an initial pool failed despite 110 attempts -- will continue trying but consider reparametrising your domain if this problem persists.\n",
      "  warn(('Sampling an initial pool failed despite %d attempts -- will ' +\n",
      "/home/ubuntu/.local/lib/python3.10/site-packages/dragonfly/exd/exd_core.py:338: UserWarning: Sampling an initial pool failed despite 120 attempts -- will continue trying but consider reparametrising your domain if this problem persists.\n",
      "  warn(('Sampling an initial pool failed despite %d attempts -- will ' +\n",
      "/home/ubuntu/.local/lib/python3.10/site-packages/dragonfly/exd/exd_core.py:338: UserWarning: Sampling an initial pool failed despite 130 attempts -- will continue trying but consider reparametrising your domain if this problem persists.\n",
      "  warn(('Sampling an initial pool failed despite %d attempts -- will ' +\n",
      "/home/ubuntu/.local/lib/python3.10/site-packages/dragonfly/exd/exd_core.py:338: UserWarning: Sampling an initial pool failed despite 140 attempts -- will continue trying but consider reparametrising your domain if this problem persists.\n",
      "  warn(('Sampling an initial pool failed despite %d attempts -- will ' +\n",
      "/home/ubuntu/.local/lib/python3.10/site-packages/dragonfly/exd/exd_core.py:338: UserWarning: Sampling an initial pool failed despite 150 attempts -- will continue trying but consider reparametrising your domain if this problem persists.\n",
      "  warn(('Sampling an initial pool failed despite %d attempts -- will ' +\n",
      "/home/ubuntu/.local/lib/python3.10/site-packages/dragonfly/exd/exd_core.py:338: UserWarning: Sampling an initial pool failed despite 160 attempts -- will continue trying but consider reparametrising your domain if this problem persists.\n",
      "  warn(('Sampling an initial pool failed despite %d attempts -- will ' +\n",
      "/home/ubuntu/.local/lib/python3.10/site-packages/dragonfly/exd/exd_core.py:338: UserWarning: Sampling an initial pool failed despite 170 attempts -- will continue trying but consider reparametrising your domain if this problem persists.\n",
      "  warn(('Sampling an initial pool failed despite %d attempts -- will ' +\n",
      "/home/ubuntu/.local/lib/python3.10/site-packages/dragonfly/exd/exd_core.py:338: UserWarning: Sampling an initial pool failed despite 180 attempts -- will continue trying but consider reparametrising your domain if this problem persists.\n",
      "  warn(('Sampling an initial pool failed despite %d attempts -- will ' +\n",
      "/home/ubuntu/.local/lib/python3.10/site-packages/dragonfly/exd/exd_core.py:338: UserWarning: Sampling an initial pool failed despite 190 attempts -- will continue trying but consider reparametrising your domain if this problem persists.\n",
      "  warn(('Sampling an initial pool failed despite %d attempts -- will ' +\n",
      "/home/ubuntu/.local/lib/python3.10/site-packages/dragonfly/exd/exd_core.py:338: UserWarning: Sampling an initial pool failed despite 200 attempts -- will continue trying but consider reparametrising your domain if this problem persists.\n",
      "  warn(('Sampling an initial pool failed despite %d attempts -- will ' +\n",
      "/home/ubuntu/.local/lib/python3.10/site-packages/dragonfly/exd/exd_core.py:338: UserWarning: Sampling an initial pool failed despite 210 attempts -- will continue trying but consider reparametrising your domain if this problem persists.\n",
      "  warn(('Sampling an initial pool failed despite %d attempts -- will ' +\n",
      "/home/ubuntu/.local/lib/python3.10/site-packages/dragonfly/exd/exd_core.py:338: UserWarning: Sampling an initial pool failed despite 220 attempts -- will continue trying but consider reparametrising your domain if this problem persists.\n",
      "  warn(('Sampling an initial pool failed despite %d attempts -- will ' +\n",
      "/home/ubuntu/.local/lib/python3.10/site-packages/dragonfly/exd/exd_core.py:338: UserWarning: Sampling an initial pool failed despite 230 attempts -- will continue trying but consider reparametrising your domain if this problem persists.\n",
      "  warn(('Sampling an initial pool failed despite %d attempts -- will ' +\n",
      "/home/ubuntu/.local/lib/python3.10/site-packages/dragonfly/exd/exd_core.py:338: UserWarning: Sampling an initial pool failed despite 240 attempts -- will continue trying but consider reparametrising your domain if this problem persists.\n",
      "  warn(('Sampling an initial pool failed despite %d attempts -- will ' +\n",
      "/home/ubuntu/.local/lib/python3.10/site-packages/dragonfly/exd/exd_core.py:338: UserWarning: Sampling an initial pool failed despite 250 attempts -- will continue trying but consider reparametrising your domain if this problem persists.\n",
      "  warn(('Sampling an initial pool failed despite %d attempts -- will ' +\n",
      "/home/ubuntu/.local/lib/python3.10/site-packages/dragonfly/exd/exd_core.py:338: UserWarning: Sampling an initial pool failed despite 260 attempts -- will continue trying but consider reparametrising your domain if this problem persists.\n",
      "  warn(('Sampling an initial pool failed despite %d attempts -- will ' +\n",
      "/home/ubuntu/.local/lib/python3.10/site-packages/dragonfly/exd/exd_core.py:338: UserWarning: Sampling an initial pool failed despite 270 attempts -- will continue trying but consider reparametrising your domain if this problem persists.\n",
      "  warn(('Sampling an initial pool failed despite %d attempts -- will ' +\n",
      "/home/ubuntu/.local/lib/python3.10/site-packages/dragonfly/exd/exd_core.py:338: UserWarning: Sampling an initial pool failed despite 280 attempts -- will continue trying but consider reparametrising your domain if this problem persists.\n",
      "  warn(('Sampling an initial pool failed despite %d attempts -- will ' +\n",
      "/home/ubuntu/.local/lib/python3.10/site-packages/dragonfly/exd/exd_core.py:338: UserWarning: Sampling an initial pool failed despite 290 attempts -- will continue trying but consider reparametrising your domain if this problem persists.\n",
      "  warn(('Sampling an initial pool failed despite %d attempts -- will ' +\n",
      "/home/ubuntu/.local/lib/python3.10/site-packages/dragonfly/exd/exd_core.py:338: UserWarning: Sampling an initial pool failed despite 300 attempts -- will continue trying but consider reparametrising your domain if this problem persists.\n",
      "  warn(('Sampling an initial pool failed despite %d attempts -- will ' +\n",
      "/home/ubuntu/.local/lib/python3.10/site-packages/dragonfly/exd/exd_core.py:338: UserWarning: Sampling an initial pool failed despite 310 attempts -- will continue trying but consider reparametrising your domain if this problem persists.\n",
      "  warn(('Sampling an initial pool failed despite %d attempts -- will ' +\n",
      "/home/ubuntu/.local/lib/python3.10/site-packages/dragonfly/exd/exd_core.py:338: UserWarning: Sampling an initial pool failed despite 320 attempts -- will continue trying but consider reparametrising your domain if this problem persists.\n",
      "  warn(('Sampling an initial pool failed despite %d attempts -- will ' +\n",
      "/home/ubuntu/.local/lib/python3.10/site-packages/dragonfly/exd/exd_core.py:338: UserWarning: Sampling an initial pool failed despite 330 attempts -- will continue trying but consider reparametrising your domain if this problem persists.\n",
      "  warn(('Sampling an initial pool failed despite %d attempts -- will ' +\n",
      "/home/ubuntu/.local/lib/python3.10/site-packages/dragonfly/exd/exd_core.py:338: UserWarning: Sampling an initial pool failed despite 340 attempts -- will continue trying but consider reparametrising your domain if this problem persists.\n",
      "  warn(('Sampling an initial pool failed despite %d attempts -- will ' +\n",
      "/home/ubuntu/.local/lib/python3.10/site-packages/dragonfly/exd/exd_core.py:338: UserWarning: Sampling an initial pool failed despite 350 attempts -- will continue trying but consider reparametrising your domain if this problem persists.\n",
      "  warn(('Sampling an initial pool failed despite %d attempts -- will ' +\n",
      "/home/ubuntu/.local/lib/python3.10/site-packages/dragonfly/exd/exd_core.py:338: UserWarning: Sampling an initial pool failed despite 360 attempts -- will continue trying but consider reparametrising your domain if this problem persists.\n",
      "  warn(('Sampling an initial pool failed despite %d attempts -- will ' +\n",
      "/home/ubuntu/.local/lib/python3.10/site-packages/dragonfly/exd/exd_core.py:338: UserWarning: Sampling an initial pool failed despite 370 attempts -- will continue trying but consider reparametrising your domain if this problem persists.\n",
      "  warn(('Sampling an initial pool failed despite %d attempts -- will ' +\n",
      "/home/ubuntu/.local/lib/python3.10/site-packages/dragonfly/exd/exd_core.py:338: UserWarning: Sampling an initial pool failed despite 380 attempts -- will continue trying but consider reparametrising your domain if this problem persists.\n",
      "  warn(('Sampling an initial pool failed despite %d attempts -- will ' +\n",
      "/home/ubuntu/.local/lib/python3.10/site-packages/dragonfly/exd/exd_core.py:338: UserWarning: Sampling an initial pool failed despite 390 attempts -- will continue trying but consider reparametrising your domain if this problem persists.\n",
      "  warn(('Sampling an initial pool failed despite %d attempts -- will ' +\n",
      "/home/ubuntu/.local/lib/python3.10/site-packages/dragonfly/exd/exd_core.py:338: UserWarning: Sampling an initial pool failed despite 400 attempts -- will continue trying but consider reparametrising your domain if this problem persists.\n",
      "  warn(('Sampling an initial pool failed despite %d attempts -- will ' +\n",
      "/home/ubuntu/.local/lib/python3.10/site-packages/dragonfly/exd/exd_core.py:338: UserWarning: Sampling an initial pool failed despite 410 attempts -- will continue trying but consider reparametrising your domain if this problem persists.\n",
      "  warn(('Sampling an initial pool failed despite %d attempts -- will ' +\n",
      "/home/ubuntu/.local/lib/python3.10/site-packages/dragonfly/exd/exd_core.py:338: UserWarning: Sampling an initial pool failed despite 420 attempts -- will continue trying but consider reparametrising your domain if this problem persists.\n",
      "  warn(('Sampling an initial pool failed despite %d attempts -- will ' +\n",
      "/home/ubuntu/.local/lib/python3.10/site-packages/dragonfly/exd/exd_core.py:338: UserWarning: Sampling an initial pool failed despite 430 attempts -- will continue trying but consider reparametrising your domain if this problem persists.\n",
      "  warn(('Sampling an initial pool failed despite %d attempts -- will ' +\n",
      "/home/ubuntu/.local/lib/python3.10/site-packages/dragonfly/exd/exd_core.py:338: UserWarning: Sampling an initial pool failed despite 440 attempts -- will continue trying but consider reparametrising your domain if this problem persists.\n",
      "  warn(('Sampling an initial pool failed despite %d attempts -- will ' +\n",
      "/home/ubuntu/.local/lib/python3.10/site-packages/dragonfly/exd/exd_core.py:338: UserWarning: Sampling an initial pool failed despite 450 attempts -- will continue trying but consider reparametrising your domain if this problem persists.\n",
      "  warn(('Sampling an initial pool failed despite %d attempts -- will ' +\n",
      "/home/ubuntu/.local/lib/python3.10/site-packages/dragonfly/exd/exd_core.py:338: UserWarning: Sampling an initial pool failed despite 460 attempts -- will continue trying but consider reparametrising your domain if this problem persists.\n",
      "  warn(('Sampling an initial pool failed despite %d attempts -- will ' +\n",
      "/home/ubuntu/.local/lib/python3.10/site-packages/dragonfly/exd/exd_core.py:338: UserWarning: Sampling an initial pool failed despite 470 attempts -- will continue trying but consider reparametrising your domain if this problem persists.\n",
      "  warn(('Sampling an initial pool failed despite %d attempts -- will ' +\n",
      "/home/ubuntu/.local/lib/python3.10/site-packages/dragonfly/exd/exd_core.py:338: UserWarning: Sampling an initial pool failed despite 480 attempts -- will continue trying but consider reparametrising your domain if this problem persists.\n",
      "  warn(('Sampling an initial pool failed despite %d attempts -- will ' +\n",
      "/home/ubuntu/.local/lib/python3.10/site-packages/dragonfly/exd/exd_core.py:338: UserWarning: Sampling an initial pool failed despite 490 attempts -- will continue trying but consider reparametrising your domain if this problem persists.\n",
      "  warn(('Sampling an initial pool failed despite %d attempts -- will ' +\n",
      "/home/ubuntu/.local/lib/python3.10/site-packages/dragonfly/exd/exd_core.py:338: UserWarning: Sampling an initial pool failed despite 500 attempts -- will continue trying but consider reparametrising your domain if this problem persists.\n",
      "  warn(('Sampling an initial pool failed despite %d attempts -- will ' +\n"
     ]
    }
   ],
   "source": [
    "#INPUTS CONFIG FILE INTO OPTIMIZER\n",
    "\n",
    "config = load_config_file(exp_config_path)\n",
    "#optimization method is bayesian optimization\n",
    "domain, domain_orderings = config.domain, config.domain_orderings\n",
    "func_caller = CPFunctionCaller(None, domain, domain_orderings=domain_orderings)\n",
    "opt = gp_bandit.CPGPBandit(func_caller, ask_tell_mode=True)\n",
    "opt.initialise()"
   ]
  },
  {
   "cell_type": "markdown",
   "metadata": {},
   "source": [
    "**Click play below to get all relevant datapoints from database to start off with.**"
   ]
  },
  {
   "cell_type": "code",
   "execution_count": 5,
   "metadata": {},
   "outputs": [],
   "source": [
    "#GETS ALL RELEVANT ELECTROLYTE DATA FROM DATABASE; INPUTS INTO OPTIMIZER\n",
    "\n",
    "experiment_electrolytes = get_experiment_electrolytes([tupl[0] for tupl in ALL_CONSIDERED_COMPONENTS])\n",
    "opt.tell([(point['amounts'], point['electrolyte'][1]) for point in experiment_electrolytes])\n",
    "#TELL ALL EXISTING DATABASE POINTS"
   ]
  },
  {
   "cell_type": "markdown",
   "metadata": {},
   "source": [
    "## **IN-EXPERIMENT USE**\n",
    "\n",
    "### ***ASK:***\n",
    "**Click play below to ask for a new point**\n",
    "\n",
    "The given point does not necessarily have to be evaluated."
   ]
  },
  {
   "cell_type": "code",
   "execution_count": 6,
   "metadata": {},
   "outputs": [
    {
     "data": {
      "text/plain": [
       "{'Ca(ClO4)2': 0.0, 'LiPF6': 1.355, 'CaCl2': 3.649, 'H6C4O3': 3.882}"
      ]
     },
     "execution_count": 6,
     "metadata": {},
     "output_type": "execute_result"
    }
   ],
   "source": [
    "\n",
    "current_electrolyte = descriptive_ask(opt, ALL_CONSIDERED_COMPONENTS)\n",
    "print(current_electrolyte)"
   ]
  },
  {
   "cell_type": "markdown",
   "metadata": {},
   "source": [
    "### ***TELL:***\n",
    "\n",
    "**Click play below to input a new experimental result**\n",
    "\n",
    "*Do not use this to tell the optimizer a given experiment was impossible*\n",
    "\n",
    "It is important to specify an x_cutoff for the circle fit to begin ignoring *for each inputted point*--typically this is used as the x value where the warburg element begins."
   ]
  },
  {
   "cell_type": "code",
   "execution_count": null,
   "metadata": {},
   "outputs": [],
   "source": [
    "X_CUTOFF = 65.85\n",
    "\n",
    "csv_tell(current_electrolyte, opt, CSV_FILEPATH, X_CUTOFF, CELL_CONSTANT)"
   ]
  },
  {
   "cell_type": "markdown",
   "metadata": {},
   "source": [
    "### ***TELL*** *(Impossible Experiment)*:\n",
    "\n",
    "**Click play below to tell the asked point was not evaluable, because of solubility reasons or otherwise.**"
   ]
  },
  {
   "cell_type": "code",
   "execution_count": null,
   "metadata": {},
   "outputs": [],
   "source": [
    "opt.tell([(current_electrolyte.values(), -1)])"
   ]
  }
 ],
 "metadata": {
  "kernelspec": {
   "display_name": "Python 3",
   "language": "python",
   "name": "python3"
  },
  "language_info": {
   "codemirror_mode": {
    "name": "ipython",
    "version": 3
   },
   "file_extension": ".py",
   "mimetype": "text/x-python",
   "name": "python",
   "nbconvert_exporter": "python",
   "pygments_lexer": "ipython3",
   "version": "3.10.12"
  },
  "orig_nbformat": 4
 },
 "nbformat": 4,
 "nbformat_minor": 2
}
